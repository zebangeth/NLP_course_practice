{
 "cells": [
  {
   "cell_type": "code",
   "execution_count": 1,
   "metadata": {},
   "outputs": [],
   "source": [
    "import pandas as pd\n",
    "import numpy as np\n",
    "import matplotlib.pyplot as plt\n",
    "import seaborn as sns\n",
    "from datetime import datetime\n",
    "\n",
    "pd.set_option('display.max_columns', None)\n",
    "pd.set_option('display.max_rows', 100)\n",
    "df = pd.read_csv('linkedin_jobs.csv')\n"
   ]
  },
  {
   "cell_type": "code",
   "execution_count": 2,
   "metadata": {},
   "outputs": [
    {
     "name": "stdout",
     "output_type": "stream",
     "text": [
      "=== Starting salary standardization ===\n",
      "Initial number of rows: 33246\n",
      "Rows with USD currency: 13352\n"
     ]
    }
   ],
   "source": [
    "# standardize salaries to annual\n",
    "def standardize_salary(row):\n",
    "    \"\"\"Convert all salaries to annual based on pay_period\"\"\"\n",
    "    if pd.isna(row['pay_period']) or row['currency'] != 'USD':\n",
    "        return pd.Series({'annual_min_salary': np.nan, \n",
    "                         'annual_med_salary': np.nan, \n",
    "                         'annual_max_salary': np.nan})\n",
    "    \n",
    "    # Define multipliers for different pay periods\n",
    "    multipliers = {\n",
    "        'HOURLY': 2080,  # 40 hours/week * 52 weeks\n",
    "        'WEEKLY': 52,\n",
    "        'MONTHLY': 12,\n",
    "        'YEARLY': 1\n",
    "    }\n",
    "    \n",
    "    mult = multipliers.get(row['pay_period'])\n",
    "    if mult is None:  # Invalid pay period\n",
    "        return pd.Series({'annual_min_salary': np.nan, \n",
    "                         'annual_med_salary': np.nan, \n",
    "                         'annual_max_salary': np.nan})\n",
    "    \n",
    "    min_sal = row['min_salary'] * mult if pd.notna(row['min_salary']) else np.nan\n",
    "    max_sal = row['max_salary'] * mult if pd.notna(row['max_salary']) else np.nan\n",
    "    med_sal = row['med_salary'] * mult if pd.notna(row['med_salary']) else np.nan\n",
    "    \n",
    "    # Calculate median if missing but min and max exist\n",
    "    if pd.isna(med_sal) and pd.notna(min_sal) and pd.notna(max_sal):\n",
    "        med_sal = (min_sal + max_sal) / 2\n",
    "    \n",
    "    return pd.Series({\n",
    "        'annual_min_salary': min_sal,\n",
    "        'annual_med_salary': med_sal,\n",
    "        'annual_max_salary': max_sal\n",
    "    })\n",
    "\n",
    "print(\"=== Starting salary standardization ===\")\n",
    "print(\"Initial number of rows:\", len(df))\n",
    "print(\"Rows with USD currency:\", len(df[df['currency'] == 'USD']))\n",
    "\n",
    "# create annual salary columns\n",
    "annual_salaries = df.apply(standardize_salary, axis=1)\n",
    "df = pd.concat([df, annual_salaries], axis=1)\n"
   ]
  },
  {
   "cell_type": "code",
   "execution_count": 3,
   "metadata": {},
   "outputs": [
    {
     "name": "stdout",
     "output_type": "stream",
     "text": [
      "\n",
      "=== Cleaned Dataset Statistics ===\n",
      "Rows after cleaning: 11014\n"
     ]
    }
   ],
   "source": [
    "\n",
    "# Clean the dataset\n",
    "# Keep only rows with at least one valid salary value and USD currency\n",
    "df_clean = df[\n",
    "    (df['currency'] == 'USD') & \n",
    "    (df[['annual_min_salary', 'annual_med_salary', 'annual_max_salary']].notna().any(axis=1))\n",
    "]\n",
    "\n",
    "# Remove rows with anual_med_salary < 10K or annual_max_salary > 5M\n",
    "df_clean = df_clean[\n",
    "    (df_clean['annual_med_salary'] >= 10000) & \n",
    "    (df_clean['annual_max_salary'] <= 5000000)\n",
    "]\n",
    "\n",
    "print(\"\\n=== Cleaned Dataset Statistics ===\")\n",
    "print(\"Rows after cleaning:\", len(df_clean))"
   ]
  },
  {
   "cell_type": "code",
   "execution_count": 4,
   "metadata": {},
   "outputs": [
    {
     "name": "stdout",
     "output_type": "stream",
     "text": [
      "\n",
      "Salary Statistics (USD, Annual):\n",
      "       annual_min_salary  annual_med_salary  annual_max_salary\n",
      "count          11,014.00          11,014.00          11,014.00\n",
      "mean           84,774.30         100,694.99         116,615.69\n",
      "std            46,051.68          57,060.58          72,263.36\n",
      "min                42.00          12,500.00          15,000.00\n",
      "25%            50,715.60          59,072.97          65,233.75\n",
      "50%            75,000.00          89,634.61         100,000.00\n",
      "75%           110,000.00         130,000.00         150,000.00\n",
      "max           800,000.00       1,050,000.00       1,664,000.00\n",
      "\n",
      "Experience Level Distribution:\n",
      "Mid-Senior level    4150\n",
      "NaN                 2822\n",
      "Entry level         2181\n",
      "Associate           1200\n",
      "Director             481\n",
      "Executive            110\n",
      "Internship            70\n",
      "Name: formatted_experience_level, dtype: int64\n",
      "\n",
      "Top 10 Locations:\n",
      "United States                      806\n",
      "New York, NY                       524\n",
      "Los Angeles, CA                    243\n",
      "Seattle, WA                        177\n",
      "New York City Metropolitan Area    172\n",
      "San Francisco, CA                  170\n",
      "Denver, CO                         146\n",
      "San Diego, CA                      137\n",
      "Chicago, IL                        130\n",
      "Dallas, TX                         108\n",
      "Name: location, dtype: int64\n",
      "\n",
      "Pay Period Distribution:\n",
      "YEARLY     7303\n",
      "HOURLY     3484\n",
      "MONTHLY     145\n",
      "WEEKLY       82\n",
      "Name: pay_period, dtype: int64\n"
     ]
    }
   ],
   "source": [
    "# Basic statistics of cleaned data\n",
    "print(\"\\nSalary Statistics (USD, Annual):\")\n",
    "pd.set_option('display.float_format', lambda x: '{:,.2f}'.format(x))\n",
    "print(df_clean[['annual_min_salary', 'annual_med_salary', 'annual_max_salary']].describe())\n",
    "\n",
    "# Experience level distribution\n",
    "print(\"\\nExperience Level Distribution:\")\n",
    "print(df_clean['formatted_experience_level'].value_counts(dropna=False))\n",
    "\n",
    "# Location analysis (top 10)\n",
    "print(\"\\nTop 10 Locations:\")\n",
    "print(df_clean['location'].value_counts().head(10))\n",
    "\n",
    "# Pay period distribution\n",
    "print(\"\\nPay Period Distribution:\")\n",
    "print(df_clean['pay_period'].value_counts(dropna=False))"
   ]
  },
  {
   "cell_type": "code",
   "execution_count": 5,
   "metadata": {},
   "outputs": [
    {
     "data": {
      "image/png": "[encoded data removed]",
      "text/plain": [
       "<Figure size 1200x600 with 1 Axes>"
      ]
     },
     "metadata": {},
     "output_type": "display_data"
    }
   ],
   "source": [
    "\n",
    "# Visualization\n",
    "plt.figure(figsize=(12, 6))\n",
    "sns.boxplot(data=df_clean[['annual_min_salary', 'annual_med_salary', 'annual_max_salary']]/1000)\n",
    "plt.title('Salary Distribution (in thousands USD)')\n",
    "plt.ylabel('Annual Salary (thousands USD)')\n",
    "plt.savefig('salary_distribution.png')\n"
   ]
  },
  {
   "cell_type": "code",
   "execution_count": 6,
   "metadata": {},
   "outputs": [
    {
     "name": "stdout",
     "output_type": "stream",
     "text": [
      "\n",
      "Preprocessing complete. Preprocessed dataset saved as 'linkedin_jobs_preprocessed.csv'\n"
     ]
    }
   ],
   "source": [
    "\n",
    "# Save preprocessed dataset\n",
    "df_clean.to_csv('linkedin_jobs_preprocessed.csv', index=False)\n",
    "\n",
    "print(\"\\nPreprocessing complete. Preprocessed dataset saved as 'linkedin_jobs_preprocessed.csv'\")"
   ]
  },
  {
   "cell_type": "code",
   "execution_count": null,
   "metadata": {},
   "outputs": [],
   "source": []
  }
 ],
 "metadata": {
  "kernelspec": {
   "display_name": "base",
   "language": "python",
   "name": "python3"
  },
  "language_info": {
   "codemirror_mode": {
    "name": "ipython",
    "version": 3
   },
   "file_extension": ".py",
   "mimetype": "text/x-python",
   "name": "python",
   "nbconvert_exporter": "python",
   "pygments_lexer": "ipython3",
   "version": "3.10.9"
  }
 },
 "nbformat": 4,
 "nbformat_minor": 2
}
